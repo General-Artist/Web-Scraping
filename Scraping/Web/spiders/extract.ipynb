{
 "cells": [
  {
   "cell_type": "code",
   "execution_count": null,
   "metadata": {},
   "outputs": [],
   "source": [
    "import scrapy"
   ]
  },
  {
   "cell_type": "code",
   "execution_count": null,
   "metadata": {},
   "outputs": [],
   "source": [
    "class ExtractUrls(scrapy.Spider):\n",
    "    name = \"extract\"\n",
    "    def start_requests(self):\n",
    "        urls = ['https://www.geeksforgeeks.org',]\n",
    "\n",
    "        for url in urls:\n",
    "            yield scrapy.Request(url = url, callback = self.parse)\n",
    "    def parse(self,response):\n",
    "        title = response.css('title::text').extract_first()\n",
    "\n",
    "        links = response.css('a:attr(href)').extract\n",
    "\n",
    "        for link in links:\n",
    "            yield {\n",
    "                'title' : title,\n",
    "                'links' : link\n",
    "            }\n",
    "            if 'geeksforgeeks' in link:\n",
    "                yield scrapy.Request(url = link, callback = self.parse)"
   ]
  }
 ],
 "metadata": {
  "language_info": {
   "name": "python"
  }
 },
 "nbformat": 4,
 "nbformat_minor": 2
}
